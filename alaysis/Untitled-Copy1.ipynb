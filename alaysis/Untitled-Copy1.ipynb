{
 "cells": [
  {
   "cell_type": "code",
   "execution_count": 1,
   "metadata": {},
   "outputs": [],
   "source": [
    "import numpy as np\n",
    "import pandas as pd\n",
    "import matplotlib.pyplot as plt"
   ]
  },
  {
   "cell_type": "markdown",
   "metadata": {},
   "source": [
    "# Topologia do sistema\n",
    "$$V = V_{mag} \\cup V_{ext} = V_{mag} \\cup V_{gap} \\cup V_{leak}$$\n",
    "$$V_{ext} =  V_{gap} \\cup V_{leak}$$\n",
    "$$V_{gap} \\subseteq V_{ext} $$\n",
    "\n",
    "# Energia magnética\n",
    "\n",
    "$$ w = \\textbf{B}\\cdot\\textbf{H} $$\n",
    "$$ W = \\int w\\cdot dv = \\int\\textbf{B}\\cdot\\textbf{H} dv $$\n",
    "\n",
    "\n",
    "$$ W_{mag} =  -\\int_{V_{mag}}\\textbf{B}\\cdot\\textbf{H} dv = \\int_{V_{ext}}\\textbf{B}\\cdot\\textbf{H} dv = W_{ext} $$\n",
    "\n",
    "# Eficiências\n",
    "\n",
    "## Eficiência Magnética:\n",
    "Razão entre energia 'gerada' pelo ímã em seu exterior e a energia máxima que este pode 'gerar'. Segundo Jensen & Abel (1996), se $W_{mag} = W_{mag}^{*}$ (se o ímã está operando em seu ponto de operação ótimo), então $\\textbf{B} = \\frac{\\textbf{B}_{rem}}{2}$ e então $W_{mag}^{*} = \\frac{\\textbf{B}_{rem}^2}{4\\mu}$.\n",
    "Definimos então\n",
    "$$ \\eta_m \\equiv 4M \\equiv \\frac{W_{mag}}{W_{mag}^*} = 4\\frac{\\int_{V_{ext}}\\mu_0|\\mathbf{B}\\cdot\\mathbf{H}|dV}{\\int_{V_{mag}}|\\mathbf{B_{rem}}|^2dV} = \\frac{\\int_{V_{ext}}\\mathbf{B}\\cdot \\mathbf{H} dV}{\\int_{V_{ext}}(\\mathbf{B}\\cdot \\mathbf{H})_{max} dV}$$\n",
    "\n",
    "## Eficiência estrutural:\n",
    "Razão entre a energia magnética no entreferro e a energia total 'gerada' pelo ímã.\n",
    "$$ \\eta_p \\equiv \\frac{W_{gap}}{W_{ext}} =  \\frac{\\int_{V_{gap}}\\mathbf{B}\\cdot \\mathbf{H} dV}{\\int_{V_{ext}}\\mathbf{B}\\cdot \\mathbf{H} dV} = 1 - \\frac{\\int_{V_{leak}}\\mathbf{B}\\cdot \\mathbf{H} dV}{\\int_{V_{ext}}\\mathbf{B}\\cdot \\mathbf{H} dV}$$\n",
    "\n",
    "## Eficiência Geral\n",
    "Razão entre a energia magnética no $\\textit{gap}$ e a energia máxima que o ímã pode gerar em seu exterior. \n",
    "$$\n",
    "    \\eta = \\eta_m \\cdot \\eta_{p} = \\frac{W_{gap}}{W_{gap}^{*}} =  4\\frac{\\int_{V_{gap}}\\mu_0|\\mathbf{B}\\cdot\\mathbf{H}|dV}{\\int_{V_{mag}}|\\mathbf{B_{rem}}|^2dV} = \\frac{\\int_{V_{gap}}\\mathbf{B}\\cdot \\mathbf{H} dV}{\\int_{V_{gap}}(\\mathbf{B}\\cdot \\mathbf{H})_{max} dV}\n",
    "$$\n"
   ]
  },
  {
   "cell_type": "markdown",
   "metadata": {},
   "source": [
    "# Objetivo:\n",
    "Para mesmo volume de ímã e entreferro, analisar impacto das geometrias de gap e ímã nas eficiências. Como temos volume fixo e topologia fixa (retangular), temos apenas 2 variáveis a analisar: a altura do gap h_gap e a largura do ímã w_mag.\n",
    "\n",
    "A | B\n",
    "- | - \n",
    "![alt](image3.png) | ![alt](image4.png)\n"
   ]
  },
  {
   "cell_type": "code",
   "execution_count": 68,
   "metadata": {},
   "outputs": [],
   "source": [
    "ef = np.loadtxt('EFICIEINCIAS.txt',skiprows=8)\n",
    "ef2 = np.loadtxt('horiz.txt',skiprows=8)"
   ]
  },
  {
   "cell_type": "code",
   "execution_count": 69,
   "metadata": {},
   "outputs": [],
   "source": [
    "ef2 = ef2.reshape(int((len(ef2)/6)),6)"
   ]
  },
  {
   "cell_type": "code",
   "execution_count": 70,
   "metadata": {},
   "outputs": [],
   "source": [
    "i=0\n",
    "ef_list = []\n",
    "\n",
    "\n",
    "for w_mag in np.arange(0.05,0.9,0.02):\n",
    "    for h_gap in np.arange(0.015,0.09,0.002):\n",
    "        ef_tuple = [w_mag,h_gap,1,1,ef[i],ef[i+1]]\n",
    "        ef_list.append(ef_tuple)\n",
    "        i+=2\n",
    "ef_array = np.array(ef_list)"
   ]
  },
  {
   "cell_type": "code",
   "execution_count": 71,
   "metadata": {},
   "outputs": [],
   "source": [
    "ef3 = np.append(ef_array,ef2)\n",
    "ef3 = ef3.reshape(int((len(ef3)/6)),6)"
   ]
  },
  {
   "cell_type": "code",
   "execution_count": 72,
   "metadata": {},
   "outputs": [],
   "source": [
    "ef3 = np.transpose(ef3)\n",
    "ef3 = np.round(ef3,7)"
   ]
  },
  {
   "cell_type": "code",
   "execution_count": 111,
   "metadata": {},
   "outputs": [
    {
     "name": "stderr",
     "output_type": "stream",
     "text": [
      "C:\\Users\\Luis Felipe\\Anaconda3\\lib\\site-packages\\ipykernel_launcher.py:4: UserWarning: Boolean Series key will be reindexed to match DataFrame index.\n",
      "  after removing the cwd from sys.path.\n"
     ]
    },
    {
     "data": {
      "text/html": [
       "<div>\n",
       "<style scoped>\n",
       "    .dataframe tbody tr th:only-of-type {\n",
       "        vertical-align: middle;\n",
       "    }\n",
       "\n",
       "    .dataframe tbody tr th {\n",
       "        vertical-align: top;\n",
       "    }\n",
       "\n",
       "    .dataframe thead th {\n",
       "        text-align: right;\n",
       "    }\n",
       "</style>\n",
       "<table border=\"1\" class=\"dataframe\">\n",
       "  <thead>\n",
       "    <tr style=\"text-align: right;\">\n",
       "      <th></th>\n",
       "      <th>w_mag</th>\n",
       "      <th>h_gap</th>\n",
       "      <th>alpha_mag</th>\n",
       "      <th>alpha_gap</th>\n",
       "      <th>Magnetic Efficiency</th>\n",
       "      <th>Strutural Efficiency</th>\n",
       "      <th>General Efficiency</th>\n",
       "    </tr>\n",
       "  </thead>\n",
       "  <tbody>\n",
       "    <tr>\n",
       "      <th>1642</th>\n",
       "      <td>0.05</td>\n",
       "      <td>0.010</td>\n",
       "      <td>0.75</td>\n",
       "      <td>0.75</td>\n",
       "      <td>0.004572</td>\n",
       "      <td>0.871459</td>\n",
       "      <td>0.003985</td>\n",
       "    </tr>\n",
       "    <tr>\n",
       "      <th>1639</th>\n",
       "      <td>0.05</td>\n",
       "      <td>0.010</td>\n",
       "      <td>0.50</td>\n",
       "      <td>0.75</td>\n",
       "      <td>0.006898</td>\n",
       "      <td>0.861224</td>\n",
       "      <td>0.005941</td>\n",
       "    </tr>\n",
       "    <tr>\n",
       "      <th>1651</th>\n",
       "      <td>0.05</td>\n",
       "      <td>0.015</td>\n",
       "      <td>0.75</td>\n",
       "      <td>0.75</td>\n",
       "      <td>0.009372</td>\n",
       "      <td>0.896255</td>\n",
       "      <td>0.008400</td>\n",
       "    </tr>\n",
       "    <tr>\n",
       "      <th>1636</th>\n",
       "      <td>0.05</td>\n",
       "      <td>0.010</td>\n",
       "      <td>0.25</td>\n",
       "      <td>0.75</td>\n",
       "      <td>0.013817</td>\n",
       "      <td>0.848606</td>\n",
       "      <td>0.011725</td>\n",
       "    </tr>\n",
       "    <tr>\n",
       "      <th>1648</th>\n",
       "      <td>0.05</td>\n",
       "      <td>0.015</td>\n",
       "      <td>0.50</td>\n",
       "      <td>0.75</td>\n",
       "      <td>0.014036</td>\n",
       "      <td>0.888846</td>\n",
       "      <td>0.012476</td>\n",
       "    </tr>\n",
       "    <tr>\n",
       "      <th>...</th>\n",
       "      <td>...</td>\n",
       "      <td>...</td>\n",
       "      <td>...</td>\n",
       "      <td>...</td>\n",
       "      <td>...</td>\n",
       "      <td>...</td>\n",
       "      <td>...</td>\n",
       "    </tr>\n",
       "    <tr>\n",
       "      <th>3778</th>\n",
       "      <td>0.75</td>\n",
       "      <td>0.010</td>\n",
       "      <td>0.25</td>\n",
       "      <td>0.75</td>\n",
       "      <td>0.971978</td>\n",
       "      <td>0.927076</td>\n",
       "      <td>0.901097</td>\n",
       "    </tr>\n",
       "    <tr>\n",
       "      <th>3328</th>\n",
       "      <td>0.60</td>\n",
       "      <td>0.015</td>\n",
       "      <td>0.25</td>\n",
       "      <td>0.75</td>\n",
       "      <td>0.999688</td>\n",
       "      <td>0.904847</td>\n",
       "      <td>0.904564</td>\n",
       "    </tr>\n",
       "    <tr>\n",
       "      <th>3931</th>\n",
       "      <td>0.80</td>\n",
       "      <td>0.010</td>\n",
       "      <td>0.25</td>\n",
       "      <td>0.75</td>\n",
       "      <td>0.989049</td>\n",
       "      <td>0.929034</td>\n",
       "      <td>0.918860</td>\n",
       "    </tr>\n",
       "    <tr>\n",
       "      <th>4084</th>\n",
       "      <td>0.85</td>\n",
       "      <td>0.010</td>\n",
       "      <td>0.25</td>\n",
       "      <td>0.75</td>\n",
       "      <td>0.997967</td>\n",
       "      <td>0.930339</td>\n",
       "      <td>0.928447</td>\n",
       "    </tr>\n",
       "    <tr>\n",
       "      <th>4237</th>\n",
       "      <td>0.90</td>\n",
       "      <td>0.010</td>\n",
       "      <td>0.25</td>\n",
       "      <td>0.75</td>\n",
       "      <td>0.999812</td>\n",
       "      <td>0.931135</td>\n",
       "      <td>0.930960</td>\n",
       "    </tr>\n",
       "  </tbody>\n",
       "</table>\n",
       "<p>918 rows × 7 columns</p>\n",
       "</div>"
      ],
      "text/plain": [
       "      w_mag  h_gap  alpha_mag  alpha_gap  Magnetic Efficiency  \\\n",
       "1642   0.05  0.010       0.75       0.75             0.004572   \n",
       "1639   0.05  0.010       0.50       0.75             0.006898   \n",
       "1651   0.05  0.015       0.75       0.75             0.009372   \n",
       "1636   0.05  0.010       0.25       0.75             0.013817   \n",
       "1648   0.05  0.015       0.50       0.75             0.014036   \n",
       "...     ...    ...        ...        ...                  ...   \n",
       "3778   0.75  0.010       0.25       0.75             0.971978   \n",
       "3328   0.60  0.015       0.25       0.75             0.999688   \n",
       "3931   0.80  0.010       0.25       0.75             0.989049   \n",
       "4084   0.85  0.010       0.25       0.75             0.997967   \n",
       "4237   0.90  0.010       0.25       0.75             0.999812   \n",
       "\n",
       "      Strutural Efficiency  General Efficiency  \n",
       "1642              0.871459            0.003985  \n",
       "1639              0.861224            0.005941  \n",
       "1651              0.896255            0.008400  \n",
       "1636              0.848606            0.011725  \n",
       "1648              0.888846            0.012476  \n",
       "...                    ...                 ...  \n",
       "3778              0.927076            0.901097  \n",
       "3328              0.904847            0.904564  \n",
       "3931              0.929034            0.918860  \n",
       "4084              0.930339            0.928447  \n",
       "4237              0.931135            0.930960  \n",
       "\n",
       "[918 rows x 7 columns]"
      ]
     },
     "execution_count": 111,
     "metadata": {},
     "output_type": "execute_result"
    }
   ],
   "source": [
    "d = {'w_mag':ef3[0],'h_gap':ef3[1],'alpha_mag':ef3[2],'alpha_gap':ef3[3],'Magnetic Efficiency':ef3[4],'Strutural Efficiency':ef3[5]}\n",
    "df = pd.DataFrame(d)\n",
    "df['General Efficiency'] = df['Magnetic Efficiency']*df['Strutural Efficiency']\n",
    "df.sort_values(['General Efficiency'])[df['alpha_gap']==0.75]"
   ]
  },
  {
   "cell_type": "markdown",
   "metadata": {},
   "source": [
    "# Eficiência magnética\n",
    "Como podemos observar, para qualquer geometria conseguimos atingir um ponto de operação ótimo."
   ]
  },
  {
   "cell_type": "code",
   "execution_count": 6,
   "metadata": {},
   "outputs": [
    {
     "data": {
      "image/png": "[encoded data removed]",
      "text/plain": [
       "<Figure size 432x288 with 1 Axes>"
      ]
     },
     "metadata": {
      "needs_background": "light"
     },
     "output_type": "display_data"
    }
   ],
   "source": [
    "for w in np.round(np.arange(0.05,0.9,0.12),2):\n",
    "    h_gap = np.asarray(df[df['w_mag']==w]['h_gap'])\n",
    "    mag_ef = np.asarray(df[df['w_mag']==w]['Magnetic Efficiency'])\n",
    "    plt.plot(h_gap,mag_ef,label = 'w_mag = {}'.format(w))\n",
    "plt.legend()\n",
    "plt.grid()\n",
    "plt.show()"
   ]
  },
  {
   "cell_type": "markdown",
   "metadata": {},
   "source": [
    "# Eficiência Estrutural\n",
    "Como esperado, um gap 'fino' possui alta eficiÊncia estrutural, devido ao menor espraiamento de campo. Ainda, ímãs grossos possuem melhor eficiência, devido À menor dispersão. \n"
   ]
  },
  {
   "cell_type": "code",
   "execution_count": 7,
   "metadata": {},
   "outputs": [
    {
     "data": {
      "image/png": "[encoded data removed]",
      "text/plain": [
       "<Figure size 432x288 with 1 Axes>"
      ]
     },
     "metadata": {
      "needs_background": "light"
     },
     "output_type": "display_data"
    }
   ],
   "source": [
    "for w in np.round(np.arange(0.05,0.9,0.12),2):\n",
    "    h_gap = np.asarray(df[df['w_mag']==w]['h_gap'])\n",
    "    mag_ef = np.asarray(df[df['w_mag']==w]['Strutural Efficiency'])\n",
    "    plt.plot(h_gap,mag_ef,label = 'w_mag = {}'.format(w))\n",
    "plt.legend()\n",
    "plt.grid()\n",
    "plt.show()"
   ]
  },
  {
   "cell_type": "markdown",
   "metadata": {},
   "source": [
    "# Eficiência geral"
   ]
  },
  {
   "cell_type": "code",
   "execution_count": 8,
   "metadata": {},
   "outputs": [
    {
     "data": {
      "image/png": "[encoded data removed]",
      "text/plain": [
       "<Figure size 432x288 with 1 Axes>"
      ]
     },
     "metadata": {
      "needs_background": "light"
     },
     "output_type": "display_data"
    }
   ],
   "source": [
    "for w in np.round(np.arange(0.05,0.9,0.12),2):\n",
    "    h_gap = np.asarray(df[df['w_mag']==w]['h_gap'])\n",
    "    mag_ef = np.asarray(df[df['w_mag']==w]['General Efficiency'])\n",
    "    plt.plot(h_gap,mag_ef,label = 'w_mag = {}'.format(w))\n",
    "plt.legend()\n",
    "plt.grid()\n",
    "plt.show()"
   ]
  },
  {
   "cell_type": "markdown",
   "metadata": {},
   "source": [
    "# Otimização topológica do ferro\n",
    "A otimização do ferro não tem impacto considerável na eficiência magnética. Porém, pode ter bastante impacto na eficiência estrutural."
   ]
  },
  {
   "cell_type": "markdown",
   "metadata": {},
   "source": [
    "![\"\"](image1.png)\n",
    "h_gap = 70, w_mag = 0.3\n",
    "$\\eta_m = 0.96$, $\\eta_p = 0.75$"
   ]
  },
  {
   "cell_type": "markdown",
   "metadata": {},
   "source": [
    "# Exemplo\n",
    "Para mesmas massas do ímã Halbach Polo, definimos primeiramente algumas restrições de tamanho. A partir disso, podemos chegar nas melhores geometrias possíveis.\n",
    "\n",
    "![\"\"](image2.png)\n",
    "\n",
    "h_gap = 30, w_mag = 0.53\n",
    "$\\eta_p = 0.88$"
   ]
  },
  {
   "cell_type": "code",
   "execution_count": 10,
   "metadata": {},
   "outputs": [],
   "source": [
    "df2 = df.copy()"
   ]
  },
  {
   "cell_type": "code",
   "execution_count": 11,
   "metadata": {},
   "outputs": [],
   "source": [
    "df2['w_gap'] = 0.0064289*(df['h_gap']**(-1))"
   ]
  },
  {
   "cell_type": "code",
   "execution_count": 13,
   "metadata": {},
   "outputs": [],
   "source": [
    "df2['dif']=abs(df2['w_gap']-df2['w_mag'])"
   ]
  },
  {
   "cell_type": "code",
   "execution_count": 28,
   "metadata": {},
   "outputs": [
    {
     "name": "stderr",
     "output_type": "stream",
     "text": [
      "C:\\Users\\Luis Felipe\\Anaconda3\\lib\\site-packages\\ipykernel_launcher.py:1: UserWarning: Boolean Series key will be reindexed to match DataFrame index.\n",
      "  \"\"\"Entry point for launching an IPython kernel.\n"
     ]
    },
    {
     "data": {
      "text/html": [
       "<div>\n",
       "<style scoped>\n",
       "    .dataframe tbody tr th:only-of-type {\n",
       "        vertical-align: middle;\n",
       "    }\n",
       "\n",
       "    .dataframe tbody tr th {\n",
       "        vertical-align: top;\n",
       "    }\n",
       "\n",
       "    .dataframe thead th {\n",
       "        text-align: right;\n",
       "    }\n",
       "</style>\n",
       "<table border=\"1\" class=\"dataframe\">\n",
       "  <thead>\n",
       "    <tr style=\"text-align: right;\">\n",
       "      <th></th>\n",
       "      <th>w_mag</th>\n",
       "      <th>h_gap</th>\n",
       "      <th>Magnetic Efficiency</th>\n",
       "      <th>Strutural Efficiency</th>\n",
       "      <th>General Efficiency</th>\n",
       "      <th>w_gap</th>\n",
       "      <th>dif</th>\n",
       "    </tr>\n",
       "  </thead>\n",
       "  <tbody>\n",
       "    <tr>\n",
       "      <th>6</th>\n",
       "      <td>0.05</td>\n",
       "      <td>0.027</td>\n",
       "      <td>0.015359</td>\n",
       "      <td>0.878051</td>\n",
       "      <td>0.013486</td>\n",
       "      <td>0.238107</td>\n",
       "      <td>0.188107</td>\n",
       "    </tr>\n",
       "    <tr>\n",
       "      <th>7</th>\n",
       "      <td>0.05</td>\n",
       "      <td>0.029</td>\n",
       "      <td>0.017412</td>\n",
       "      <td>0.865412</td>\n",
       "      <td>0.015069</td>\n",
       "      <td>0.221686</td>\n",
       "      <td>0.171686</td>\n",
       "    </tr>\n",
       "    <tr>\n",
       "      <th>8</th>\n",
       "      <td>0.05</td>\n",
       "      <td>0.031</td>\n",
       "      <td>0.019551</td>\n",
       "      <td>0.852854</td>\n",
       "      <td>0.016674</td>\n",
       "      <td>0.207384</td>\n",
       "      <td>0.157384</td>\n",
       "    </tr>\n",
       "    <tr>\n",
       "      <th>9</th>\n",
       "      <td>0.05</td>\n",
       "      <td>0.033</td>\n",
       "      <td>0.021754</td>\n",
       "      <td>0.839578</td>\n",
       "      <td>0.018264</td>\n",
       "      <td>0.194815</td>\n",
       "      <td>0.144815</td>\n",
       "    </tr>\n",
       "    <tr>\n",
       "      <th>10</th>\n",
       "      <td>0.05</td>\n",
       "      <td>0.035</td>\n",
       "      <td>0.024017</td>\n",
       "      <td>0.826111</td>\n",
       "      <td>0.019841</td>\n",
       "      <td>0.183683</td>\n",
       "      <td>0.133683</td>\n",
       "    </tr>\n",
       "    <tr>\n",
       "      <th>...</th>\n",
       "      <td>...</td>\n",
       "      <td>...</td>\n",
       "      <td>...</td>\n",
       "      <td>...</td>\n",
       "      <td>...</td>\n",
       "      <td>...</td>\n",
       "      <td>...</td>\n",
       "    </tr>\n",
       "    <tr>\n",
       "      <th>451</th>\n",
       "      <td>0.27</td>\n",
       "      <td>0.081</td>\n",
       "      <td>0.903145</td>\n",
       "      <td>0.468306</td>\n",
       "      <td>0.422948</td>\n",
       "      <td>0.079369</td>\n",
       "      <td>0.190631</td>\n",
       "    </tr>\n",
       "    <tr>\n",
       "      <th>452</th>\n",
       "      <td>0.27</td>\n",
       "      <td>0.083</td>\n",
       "      <td>0.909584</td>\n",
       "      <td>0.457066</td>\n",
       "      <td>0.415739</td>\n",
       "      <td>0.077457</td>\n",
       "      <td>0.192543</td>\n",
       "    </tr>\n",
       "    <tr>\n",
       "      <th>453</th>\n",
       "      <td>0.27</td>\n",
       "      <td>0.085</td>\n",
       "      <td>0.915573</td>\n",
       "      <td>0.446151</td>\n",
       "      <td>0.408484</td>\n",
       "      <td>0.075634</td>\n",
       "      <td>0.194366</td>\n",
       "    </tr>\n",
       "    <tr>\n",
       "      <th>454</th>\n",
       "      <td>0.27</td>\n",
       "      <td>0.087</td>\n",
       "      <td>0.921138</td>\n",
       "      <td>0.435591</td>\n",
       "      <td>0.401239</td>\n",
       "      <td>0.073895</td>\n",
       "      <td>0.196105</td>\n",
       "    </tr>\n",
       "    <tr>\n",
       "      <th>455</th>\n",
       "      <td>0.27</td>\n",
       "      <td>0.089</td>\n",
       "      <td>0.926314</td>\n",
       "      <td>0.425354</td>\n",
       "      <td>0.394011</td>\n",
       "      <td>0.072235</td>\n",
       "      <td>0.197765</td>\n",
       "    </tr>\n",
       "  </tbody>\n",
       "</table>\n",
       "<p>576 rows × 7 columns</p>\n",
       "</div>"
      ],
      "text/plain": [
       "     w_mag  h_gap  Magnetic Efficiency  Strutural Efficiency  \\\n",
       "6     0.05  0.027             0.015359              0.878051   \n",
       "7     0.05  0.029             0.017412              0.865412   \n",
       "8     0.05  0.031             0.019551              0.852854   \n",
       "9     0.05  0.033             0.021754              0.839578   \n",
       "10    0.05  0.035             0.024017              0.826111   \n",
       "..     ...    ...                  ...                   ...   \n",
       "451   0.27  0.081             0.903145              0.468306   \n",
       "452   0.27  0.083             0.909584              0.457066   \n",
       "453   0.27  0.085             0.915573              0.446151   \n",
       "454   0.27  0.087             0.921138              0.435591   \n",
       "455   0.27  0.089             0.926314              0.425354   \n",
       "\n",
       "     General Efficiency     w_gap       dif  \n",
       "6              0.013486  0.238107  0.188107  \n",
       "7              0.015069  0.221686  0.171686  \n",
       "8              0.016674  0.207384  0.157384  \n",
       "9              0.018264  0.194815  0.144815  \n",
       "10             0.019841  0.183683  0.133683  \n",
       "..                  ...       ...       ...  \n",
       "451            0.422948  0.079369  0.190631  \n",
       "452            0.415739  0.077457  0.192543  \n",
       "453            0.408484  0.075634  0.194366  \n",
       "454            0.401239  0.073895  0.196105  \n",
       "455            0.394011  0.072235  0.197765  \n",
       "\n",
       "[576 rows x 7 columns]"
      ]
     },
     "execution_count": 28,
     "metadata": {},
     "output_type": "execute_result"
    }
   ],
   "source": [
    "(df2.sort_values('Magnetic Efficiency'))[df2['dif']<0.2]"
   ]
  },
  {
   "cell_type": "code",
   "execution_count": 94,
   "metadata": {},
   "outputs": [],
   "source": [
    "ef2 = np.loadtxt('vert.txt',skiprows=8)"
   ]
  },
  {
   "cell_type": "code",
   "execution_count": 95,
   "metadata": {},
   "outputs": [
    {
     "data": {
      "text/plain": [
       "array([[0.05      , 0.01      , 0.25      , 0.25      , 0.32211021,\n",
       "        0.90849247],\n",
       "       [0.05      , 0.01      , 0.25      , 0.5       , 0.18719973,\n",
       "        0.90329477],\n",
       "       [0.05      , 0.01      , 0.25      , 0.75      , 0.13427906,\n",
       "        0.88516068],\n",
       "       ...,\n",
       "       [0.9       , 0.09      , 1.        , 0.5       , 0.13238563,\n",
       "        0.21625701],\n",
       "       [0.9       , 0.09      , 1.        , 0.75      , 0.12172647,\n",
       "        0.23281754],\n",
       "       [0.9       , 0.09      , 1.        , 1.        , 0.11407433,\n",
       "        0.23807751]])"
      ]
     },
     "execution_count": 95,
     "metadata": {},
     "output_type": "execute_result"
    }
   ],
   "source": [
    "ef2 = ef2.reshape(int((len(ef2)/6)),6)\n",
    "ef2"
   ]
  },
  {
   "cell_type": "code",
   "execution_count": 96,
   "metadata": {},
   "outputs": [],
   "source": [
    "ef2 = np.transpose(ef2)\n",
    "ef2 = np.round(ef2,7)"
   ]
  },
  {
   "cell_type": "code",
   "execution_count": 103,
   "metadata": {},
   "outputs": [
    {
     "name": "stderr",
     "output_type": "stream",
     "text": [
      "C:\\Users\\Luis Felipe\\Anaconda3\\lib\\site-packages\\ipykernel_launcher.py:4: UserWarning: Boolean Series key will be reindexed to match DataFrame index.\n",
      "  after removing the cwd from sys.path.\n"
     ]
    },
    {
     "data": {
      "text/html": [
       "<div>\n",
       "<style scoped>\n",
       "    .dataframe tbody tr th:only-of-type {\n",
       "        vertical-align: middle;\n",
       "    }\n",
       "\n",
       "    .dataframe tbody tr th {\n",
       "        vertical-align: top;\n",
       "    }\n",
       "\n",
       "    .dataframe thead th {\n",
       "        text-align: right;\n",
       "    }\n",
       "</style>\n",
       "<table border=\"1\" class=\"dataframe\">\n",
       "  <thead>\n",
       "    <tr style=\"text-align: right;\">\n",
       "      <th></th>\n",
       "      <th>w_mag</th>\n",
       "      <th>h_gap</th>\n",
       "      <th>alpha_mag</th>\n",
       "      <th>alpha_gap</th>\n",
       "      <th>Magnetic Efficiency</th>\n",
       "      <th>Strutural Efficiency</th>\n",
       "      <th>General Efficiency</th>\n",
       "    </tr>\n",
       "  </thead>\n",
       "  <tbody>\n",
       "    <tr>\n",
       "      <th>812</th>\n",
       "      <td>0.15</td>\n",
       "      <td>0.090</td>\n",
       "      <td>1.00</td>\n",
       "      <td>0.25</td>\n",
       "      <td>0.945296</td>\n",
       "      <td>0.283866</td>\n",
       "      <td>0.268338</td>\n",
       "    </tr>\n",
       "    <tr>\n",
       "      <th>532</th>\n",
       "      <td>0.10</td>\n",
       "      <td>0.090</td>\n",
       "      <td>0.50</td>\n",
       "      <td>0.25</td>\n",
       "      <td>0.968463</td>\n",
       "      <td>0.282747</td>\n",
       "      <td>0.273830</td>\n",
       "    </tr>\n",
       "    <tr>\n",
       "      <th>520</th>\n",
       "      <td>0.10</td>\n",
       "      <td>0.085</td>\n",
       "      <td>0.75</td>\n",
       "      <td>0.25</td>\n",
       "      <td>0.928530</td>\n",
       "      <td>0.300408</td>\n",
       "      <td>0.278938</td>\n",
       "    </tr>\n",
       "    <tr>\n",
       "      <th>796</th>\n",
       "      <td>0.15</td>\n",
       "      <td>0.085</td>\n",
       "      <td>1.00</td>\n",
       "      <td>0.25</td>\n",
       "      <td>0.943521</td>\n",
       "      <td>0.301606</td>\n",
       "      <td>0.284571</td>\n",
       "    </tr>\n",
       "    <tr>\n",
       "      <th>516</th>\n",
       "      <td>0.10</td>\n",
       "      <td>0.085</td>\n",
       "      <td>0.50</td>\n",
       "      <td>0.25</td>\n",
       "      <td>0.969844</td>\n",
       "      <td>0.299913</td>\n",
       "      <td>0.290869</td>\n",
       "    </tr>\n",
       "    <tr>\n",
       "      <th>...</th>\n",
       "      <td>...</td>\n",
       "      <td>...</td>\n",
       "      <td>...</td>\n",
       "      <td>...</td>\n",
       "      <td>...</td>\n",
       "      <td>...</td>\n",
       "      <td>...</td>\n",
       "    </tr>\n",
       "    <tr>\n",
       "      <th>78</th>\n",
       "      <td>0.05</td>\n",
       "      <td>0.030</td>\n",
       "      <td>1.00</td>\n",
       "      <td>0.75</td>\n",
       "      <td>0.994907</td>\n",
       "      <td>0.857139</td>\n",
       "      <td>0.852774</td>\n",
       "    </tr>\n",
       "    <tr>\n",
       "      <th>45</th>\n",
       "      <td>0.05</td>\n",
       "      <td>0.020</td>\n",
       "      <td>1.00</td>\n",
       "      <td>0.50</td>\n",
       "      <td>0.970506</td>\n",
       "      <td>0.891768</td>\n",
       "      <td>0.865466</td>\n",
       "    </tr>\n",
       "    <tr>\n",
       "      <th>28</th>\n",
       "      <td>0.05</td>\n",
       "      <td>0.015</td>\n",
       "      <td>1.00</td>\n",
       "      <td>0.25</td>\n",
       "      <td>0.979260</td>\n",
       "      <td>0.884871</td>\n",
       "      <td>0.866519</td>\n",
       "    </tr>\n",
       "    <tr>\n",
       "      <th>62</th>\n",
       "      <td>0.05</td>\n",
       "      <td>0.025</td>\n",
       "      <td>1.00</td>\n",
       "      <td>0.75</td>\n",
       "      <td>0.977228</td>\n",
       "      <td>0.888654</td>\n",
       "      <td>0.868418</td>\n",
       "    </tr>\n",
       "    <tr>\n",
       "      <th>79</th>\n",
       "      <td>0.05</td>\n",
       "      <td>0.030</td>\n",
       "      <td>1.00</td>\n",
       "      <td>1.00</td>\n",
       "      <td>0.986184</td>\n",
       "      <td>0.882275</td>\n",
       "      <td>0.870086</td>\n",
       "    </tr>\n",
       "  </tbody>\n",
       "</table>\n",
       "<p>174 rows × 7 columns</p>\n",
       "</div>"
      ],
      "text/plain": [
       "     w_mag  h_gap  alpha_mag  alpha_gap  Magnetic Efficiency  \\\n",
       "812   0.15  0.090       1.00       0.25             0.945296   \n",
       "532   0.10  0.090       0.50       0.25             0.968463   \n",
       "520   0.10  0.085       0.75       0.25             0.928530   \n",
       "796   0.15  0.085       1.00       0.25             0.943521   \n",
       "516   0.10  0.085       0.50       0.25             0.969844   \n",
       "..     ...    ...        ...        ...                  ...   \n",
       "78    0.05  0.030       1.00       0.75             0.994907   \n",
       "45    0.05  0.020       1.00       0.50             0.970506   \n",
       "28    0.05  0.015       1.00       0.25             0.979260   \n",
       "62    0.05  0.025       1.00       0.75             0.977228   \n",
       "79    0.05  0.030       1.00       1.00             0.986184   \n",
       "\n",
       "     Strutural Efficiency  General Efficiency  \n",
       "812              0.283866            0.268338  \n",
       "532              0.282747            0.273830  \n",
       "520              0.300408            0.278938  \n",
       "796              0.301606            0.284571  \n",
       "516              0.299913            0.290869  \n",
       "..                    ...                 ...  \n",
       "78               0.857139            0.852774  \n",
       "45               0.891768            0.865466  \n",
       "28               0.884871            0.866519  \n",
       "62               0.888654            0.868418  \n",
       "79               0.882275            0.870086  \n",
       "\n",
       "[174 rows x 7 columns]"
      ]
     },
     "execution_count": 103,
     "metadata": {},
     "output_type": "execute_result"
    }
   ],
   "source": [
    "d = {'w_mag':ef2[0],'h_gap':ef2[1],'alpha_mag':ef2[2],'alpha_gap':ef2[3],'Magnetic Efficiency':ef2[4],'Strutural Efficiency':ef2[5]}\n",
    "df2 = pd.DataFrame(d)\n",
    "df2['General Efficiency'] = df2['Magnetic Efficiency']*df2['Strutural Efficiency']\n",
    "df2"
   ]
  },
  {
   "cell_type": "code",
   "execution_count": 108,
   "metadata": {},
   "outputs": [
    {
     "name": "stderr",
     "output_type": "stream",
     "text": [
      "C:\\Users\\Luis Felipe\\Anaconda3\\lib\\site-packages\\ipykernel_launcher.py:1: UserWarning: Boolean Series key will be reindexed to match DataFrame index.\n",
      "  \"\"\"Entry point for launching an IPython kernel.\n"
     ]
    },
    {
     "data": {
      "text/html": [
       "<div>\n",
       "<style scoped>\n",
       "    .dataframe tbody tr th:only-of-type {\n",
       "        vertical-align: middle;\n",
       "    }\n",
       "\n",
       "    .dataframe tbody tr th {\n",
       "        vertical-align: top;\n",
       "    }\n",
       "\n",
       "    .dataframe thead th {\n",
       "        text-align: right;\n",
       "    }\n",
       "</style>\n",
       "<table border=\"1\" class=\"dataframe\">\n",
       "  <thead>\n",
       "    <tr style=\"text-align: right;\">\n",
       "      <th></th>\n",
       "      <th>w_mag</th>\n",
       "      <th>h_gap</th>\n",
       "      <th>alpha_mag</th>\n",
       "      <th>alpha_gap</th>\n",
       "      <th>Magnetic Efficiency</th>\n",
       "      <th>Strutural Efficiency</th>\n",
       "      <th>General Efficiency</th>\n",
       "    </tr>\n",
       "  </thead>\n",
       "  <tbody>\n",
       "    <tr>\n",
       "      <th>4627</th>\n",
       "      <td>0.90</td>\n",
       "      <td>0.010</td>\n",
       "      <td>0.25</td>\n",
       "      <td>1.0</td>\n",
       "      <td>0.003791</td>\n",
       "      <td>0.095404</td>\n",
       "      <td>0.000362</td>\n",
       "    </tr>\n",
       "    <tr>\n",
       "      <th>4355</th>\n",
       "      <td>0.85</td>\n",
       "      <td>0.010</td>\n",
       "      <td>0.25</td>\n",
       "      <td>1.0</td>\n",
       "      <td>0.004207</td>\n",
       "      <td>0.095066</td>\n",
       "      <td>0.000400</td>\n",
       "    </tr>\n",
       "    <tr>\n",
       "      <th>4083</th>\n",
       "      <td>0.80</td>\n",
       "      <td>0.010</td>\n",
       "      <td>0.25</td>\n",
       "      <td>1.0</td>\n",
       "      <td>0.023616</td>\n",
       "      <td>0.018690</td>\n",
       "      <td>0.000441</td>\n",
       "    </tr>\n",
       "    <tr>\n",
       "      <th>3811</th>\n",
       "      <td>0.75</td>\n",
       "      <td>0.010</td>\n",
       "      <td>0.25</td>\n",
       "      <td>1.0</td>\n",
       "      <td>0.026084</td>\n",
       "      <td>0.019082</td>\n",
       "      <td>0.000498</td>\n",
       "    </tr>\n",
       "    <tr>\n",
       "      <th>3539</th>\n",
       "      <td>0.70</td>\n",
       "      <td>0.010</td>\n",
       "      <td>0.25</td>\n",
       "      <td>1.0</td>\n",
       "      <td>0.000967</td>\n",
       "      <td>0.584952</td>\n",
       "      <td>0.000566</td>\n",
       "    </tr>\n",
       "    <tr>\n",
       "      <th>...</th>\n",
       "      <td>...</td>\n",
       "      <td>...</td>\n",
       "      <td>...</td>\n",
       "      <td>...</td>\n",
       "      <td>...</td>\n",
       "      <td>...</td>\n",
       "      <td>...</td>\n",
       "    </tr>\n",
       "    <tr>\n",
       "      <th>75</th>\n",
       "      <td>0.05</td>\n",
       "      <td>0.030</td>\n",
       "      <td>0.75</td>\n",
       "      <td>1.0</td>\n",
       "      <td>0.938059</td>\n",
       "      <td>0.878907</td>\n",
       "      <td>0.824467</td>\n",
       "    </tr>\n",
       "    <tr>\n",
       "      <th>91</th>\n",
       "      <td>0.05</td>\n",
       "      <td>0.035</td>\n",
       "      <td>0.75</td>\n",
       "      <td>1.0</td>\n",
       "      <td>0.984222</td>\n",
       "      <td>0.851049</td>\n",
       "      <td>0.837622</td>\n",
       "    </tr>\n",
       "    <tr>\n",
       "      <th>63</th>\n",
       "      <td>0.05</td>\n",
       "      <td>0.025</td>\n",
       "      <td>1.00</td>\n",
       "      <td>1.0</td>\n",
       "      <td>0.928629</td>\n",
       "      <td>0.907291</td>\n",
       "      <td>0.842536</td>\n",
       "    </tr>\n",
       "    <tr>\n",
       "      <th>95</th>\n",
       "      <td>0.05</td>\n",
       "      <td>0.035</td>\n",
       "      <td>1.00</td>\n",
       "      <td>1.0</td>\n",
       "      <td>0.995411</td>\n",
       "      <td>0.854411</td>\n",
       "      <td>0.850490</td>\n",
       "    </tr>\n",
       "    <tr>\n",
       "      <th>79</th>\n",
       "      <td>0.05</td>\n",
       "      <td>0.030</td>\n",
       "      <td>1.00</td>\n",
       "      <td>1.0</td>\n",
       "      <td>0.986184</td>\n",
       "      <td>0.882275</td>\n",
       "      <td>0.870086</td>\n",
       "    </tr>\n",
       "  </tbody>\n",
       "</table>\n",
       "<p>1224 rows × 7 columns</p>\n",
       "</div>"
      ],
      "text/plain": [
       "      w_mag  h_gap  alpha_mag  alpha_gap  Magnetic Efficiency  \\\n",
       "4627   0.90  0.010       0.25        1.0             0.003791   \n",
       "4355   0.85  0.010       0.25        1.0             0.004207   \n",
       "4083   0.80  0.010       0.25        1.0             0.023616   \n",
       "3811   0.75  0.010       0.25        1.0             0.026084   \n",
       "3539   0.70  0.010       0.25        1.0             0.000967   \n",
       "...     ...    ...        ...        ...                  ...   \n",
       "75     0.05  0.030       0.75        1.0             0.938059   \n",
       "91     0.05  0.035       0.75        1.0             0.984222   \n",
       "63     0.05  0.025       1.00        1.0             0.928629   \n",
       "95     0.05  0.035       1.00        1.0             0.995411   \n",
       "79     0.05  0.030       1.00        1.0             0.986184   \n",
       "\n",
       "      Strutural Efficiency  General Efficiency  \n",
       "4627              0.095404            0.000362  \n",
       "4355              0.095066            0.000400  \n",
       "4083              0.018690            0.000441  \n",
       "3811              0.019082            0.000498  \n",
       "3539              0.584952            0.000566  \n",
       "...                    ...                 ...  \n",
       "75                0.878907            0.824467  \n",
       "91                0.851049            0.837622  \n",
       "63                0.907291            0.842536  \n",
       "95                0.854411            0.850490  \n",
       "79                0.882275            0.870086  \n",
       "\n",
       "[1224 rows x 7 columns]"
      ]
     },
     "execution_count": 108,
     "metadata": {},
     "output_type": "execute_result"
    }
   ],
   "source": [
    "df2.sort_values(['General Efficiency'])[df2['alpha_gap']==1]"
   ]
  },
  {
   "cell_type": "code",
   "execution_count": 149,
   "metadata": {},
   "outputs": [
    {
     "data": {
      "text/plain": [
       "w_mag                   0.700000\n",
       "h_gap                   0.010000\n",
       "alpha_mag               0.500000\n",
       "alpha_gap               0.250000\n",
       "Magnetic Efficiency     0.986553\n",
       "Strutural Efficiency    0.817960\n",
       "General Efficiency      0.806961\n",
       "Name: 3626, dtype: float64"
      ]
     },
     "execution_count": 149,
     "metadata": {},
     "output_type": "execute_result"
    }
   ],
   "source": [
    "dft = dft[dft['alpha_mag']==a]\n",
    "dft\n",
    "dft.loc[dft['General Efficiency'].idxmax()]"
   ]
  },
  {
   "cell_type": "markdown",
   "metadata": {},
   "source": [
    "## Variando as áreas\n",
    "Seja a área $A_m$ a área de ímã inicial (halbach) e $A_g$ á área de gap inicial.\n",
    "\n",
    "\n",
    "A área utilizada de ímã agora será $A_m \\times \\alpha_{mag}$ e a de gap será $A_g \\times \\alpha_{gap}$"
   ]
  },
  {
   "cell_type": "markdown",
   "metadata": {},
   "source": [
    "Para cada $A_m$ e para cada $A_g$, tomaremos os parâmetros que melhor otimizam a eficiÊncia geral.\n",
    "\n",
    "Podemos concluir que é bom reduzir os ímãs e aumentar o gap."
   ]
  },
  {
   "cell_type": "code",
   "execution_count": 152,
   "metadata": {},
   "outputs": [
    {
     "name": "stdout",
     "output_type": "stream",
     "text": [
      "w_mag                   0.500000\n",
      "h_gap                   0.010000\n",
      "alpha_mag               0.250000\n",
      "alpha_gap               0.250000\n",
      "Magnetic Efficiency     0.992886\n",
      "Strutural Efficiency    0.854761\n",
      "General Efficiency      0.848680\n",
      "Name: 3011, dtype: float64 \n",
      "\n",
      "\n",
      "w_mag                   0.700000\n",
      "h_gap                   0.010000\n",
      "alpha_mag               0.500000\n",
      "alpha_gap               0.250000\n",
      "Magnetic Efficiency     0.986553\n",
      "Strutural Efficiency    0.817960\n",
      "General Efficiency      0.806961\n",
      "Name: 3626, dtype: float64 \n",
      "\n",
      "\n",
      "w_mag                   0.850000\n",
      "h_gap                   0.010000\n",
      "alpha_mag               0.750000\n",
      "alpha_gap               0.250000\n",
      "Magnetic Efficiency     0.979595\n",
      "Strutural Efficiency    0.787240\n",
      "General Efficiency      0.771176\n",
      "Name: 4088, dtype: float64 \n",
      "\n",
      "\n"
     ]
    },
    {
     "ename": "ValueError",
     "evalue": "attempt to get argmax of an empty sequence",
     "output_type": "error",
     "traceback": [
      "\u001b[1;31m---------------------------------------------------------------------------\u001b[0m",
      "\u001b[1;31mValueError\u001b[0m                                Traceback (most recent call last)",
      "\u001b[1;32m<ipython-input-152-3da81eab2e81>\u001b[0m in \u001b[0;36m<module>\u001b[1;34m\u001b[0m\n\u001b[0;32m      5\u001b[0m         \u001b[0ma\u001b[0m \u001b[1;33m=\u001b[0m \u001b[0mround\u001b[0m\u001b[1;33m(\u001b[0m\u001b[0ma\u001b[0m\u001b[1;33m,\u001b[0m\u001b[1;36m2\u001b[0m\u001b[1;33m)\u001b[0m\u001b[1;33m\u001b[0m\u001b[1;33m\u001b[0m\u001b[0m\n\u001b[0;32m      6\u001b[0m         \u001b[0mdft2\u001b[0m \u001b[1;33m=\u001b[0m \u001b[0mdft\u001b[0m\u001b[1;33m[\u001b[0m\u001b[0mdft\u001b[0m\u001b[1;33m[\u001b[0m\u001b[1;34m'alpha_mag'\u001b[0m\u001b[1;33m]\u001b[0m\u001b[1;33m==\u001b[0m\u001b[0ma\u001b[0m\u001b[1;33m]\u001b[0m\u001b[1;33m\u001b[0m\u001b[1;33m\u001b[0m\u001b[0m\n\u001b[1;32m----> 7\u001b[1;33m         \u001b[0mprint\u001b[0m\u001b[1;33m(\u001b[0m\u001b[0mdft2\u001b[0m\u001b[1;33m.\u001b[0m\u001b[0mloc\u001b[0m\u001b[1;33m[\u001b[0m\u001b[0mdft2\u001b[0m\u001b[1;33m[\u001b[0m\u001b[1;34m'General Efficiency'\u001b[0m\u001b[1;33m]\u001b[0m\u001b[1;33m.\u001b[0m\u001b[0midxmax\u001b[0m\u001b[1;33m(\u001b[0m\u001b[1;33m)\u001b[0m\u001b[1;33m]\u001b[0m\u001b[1;33m,\u001b[0m\u001b[1;34m'\\n\\n'\u001b[0m\u001b[1;33m)\u001b[0m\u001b[1;33m\u001b[0m\u001b[1;33m\u001b[0m\u001b[0m\n\u001b[0m",
      "\u001b[1;32m~\\Anaconda3\\lib\\site-packages\\pandas\\core\\series.py\u001b[0m in \u001b[0;36midxmax\u001b[1;34m(self, axis, skipna, *args, **kwargs)\u001b[0m\n\u001b[0;32m   2278\u001b[0m         \"\"\"\n\u001b[0;32m   2279\u001b[0m         \u001b[0mskipna\u001b[0m \u001b[1;33m=\u001b[0m \u001b[0mnv\u001b[0m\u001b[1;33m.\u001b[0m\u001b[0mvalidate_argmax_with_skipna\u001b[0m\u001b[1;33m(\u001b[0m\u001b[0mskipna\u001b[0m\u001b[1;33m,\u001b[0m \u001b[0margs\u001b[0m\u001b[1;33m,\u001b[0m \u001b[0mkwargs\u001b[0m\u001b[1;33m)\u001b[0m\u001b[1;33m\u001b[0m\u001b[1;33m\u001b[0m\u001b[0m\n\u001b[1;32m-> 2280\u001b[1;33m         \u001b[0mi\u001b[0m \u001b[1;33m=\u001b[0m \u001b[0mnanops\u001b[0m\u001b[1;33m.\u001b[0m\u001b[0mnanargmax\u001b[0m\u001b[1;33m(\u001b[0m\u001b[0mcom\u001b[0m\u001b[1;33m.\u001b[0m\u001b[0mvalues_from_object\u001b[0m\u001b[1;33m(\u001b[0m\u001b[0mself\u001b[0m\u001b[1;33m)\u001b[0m\u001b[1;33m,\u001b[0m \u001b[0mskipna\u001b[0m\u001b[1;33m=\u001b[0m\u001b[0mskipna\u001b[0m\u001b[1;33m)\u001b[0m\u001b[1;33m\u001b[0m\u001b[1;33m\u001b[0m\u001b[0m\n\u001b[0m\u001b[0;32m   2281\u001b[0m         \u001b[1;32mif\u001b[0m \u001b[0mi\u001b[0m \u001b[1;33m==\u001b[0m \u001b[1;33m-\u001b[0m\u001b[1;36m1\u001b[0m\u001b[1;33m:\u001b[0m\u001b[1;33m\u001b[0m\u001b[1;33m\u001b[0m\u001b[0m\n\u001b[0;32m   2282\u001b[0m             \u001b[1;32mreturn\u001b[0m \u001b[0mnp\u001b[0m\u001b[1;33m.\u001b[0m\u001b[0mnan\u001b[0m\u001b[1;33m\u001b[0m\u001b[1;33m\u001b[0m\u001b[0m\n",
      "\u001b[1;32m~\\Anaconda3\\lib\\site-packages\\pandas\\core\\nanops.py\u001b[0m in \u001b[0;36m_f\u001b[1;34m(*args, **kwargs)\u001b[0m\n\u001b[0;32m     68\u001b[0m             \u001b[1;32mtry\u001b[0m\u001b[1;33m:\u001b[0m\u001b[1;33m\u001b[0m\u001b[1;33m\u001b[0m\u001b[0m\n\u001b[0;32m     69\u001b[0m                 \u001b[1;32mwith\u001b[0m \u001b[0mnp\u001b[0m\u001b[1;33m.\u001b[0m\u001b[0merrstate\u001b[0m\u001b[1;33m(\u001b[0m\u001b[0minvalid\u001b[0m\u001b[1;33m=\u001b[0m\u001b[1;34m\"ignore\"\u001b[0m\u001b[1;33m)\u001b[0m\u001b[1;33m:\u001b[0m\u001b[1;33m\u001b[0m\u001b[1;33m\u001b[0m\u001b[0m\n\u001b[1;32m---> 70\u001b[1;33m                     \u001b[1;32mreturn\u001b[0m \u001b[0mf\u001b[0m\u001b[1;33m(\u001b[0m\u001b[1;33m*\u001b[0m\u001b[0margs\u001b[0m\u001b[1;33m,\u001b[0m \u001b[1;33m**\u001b[0m\u001b[0mkwargs\u001b[0m\u001b[1;33m)\u001b[0m\u001b[1;33m\u001b[0m\u001b[1;33m\u001b[0m\u001b[0m\n\u001b[0m\u001b[0;32m     71\u001b[0m             \u001b[1;32mexcept\u001b[0m \u001b[0mValueError\u001b[0m \u001b[1;32mas\u001b[0m \u001b[0me\u001b[0m\u001b[1;33m:\u001b[0m\u001b[1;33m\u001b[0m\u001b[1;33m\u001b[0m\u001b[0m\n\u001b[0;32m     72\u001b[0m                 \u001b[1;31m# we want to transform an object array\u001b[0m\u001b[1;33m\u001b[0m\u001b[1;33m\u001b[0m\u001b[1;33m\u001b[0m\u001b[0m\n",
      "\u001b[1;32m~\\Anaconda3\\lib\\site-packages\\pandas\\core\\nanops.py\u001b[0m in \u001b[0;36mnanargmax\u001b[1;34m(values, axis, skipna, mask)\u001b[0m\n\u001b[0;32m    879\u001b[0m         \u001b[0mvalues\u001b[0m\u001b[1;33m,\u001b[0m \u001b[1;32mTrue\u001b[0m\u001b[1;33m,\u001b[0m \u001b[0mfill_value_typ\u001b[0m\u001b[1;33m=\u001b[0m\u001b[1;34m\"-inf\"\u001b[0m\u001b[1;33m,\u001b[0m \u001b[0mmask\u001b[0m\u001b[1;33m=\u001b[0m\u001b[0mmask\u001b[0m\u001b[1;33m\u001b[0m\u001b[1;33m\u001b[0m\u001b[0m\n\u001b[0;32m    880\u001b[0m     )\n\u001b[1;32m--> 881\u001b[1;33m     \u001b[0mresult\u001b[0m \u001b[1;33m=\u001b[0m \u001b[0mvalues\u001b[0m\u001b[1;33m.\u001b[0m\u001b[0margmax\u001b[0m\u001b[1;33m(\u001b[0m\u001b[0maxis\u001b[0m\u001b[1;33m)\u001b[0m\u001b[1;33m\u001b[0m\u001b[1;33m\u001b[0m\u001b[0m\n\u001b[0m\u001b[0;32m    882\u001b[0m     \u001b[0mresult\u001b[0m \u001b[1;33m=\u001b[0m \u001b[0m_maybe_arg_null_out\u001b[0m\u001b[1;33m(\u001b[0m\u001b[0mresult\u001b[0m\u001b[1;33m,\u001b[0m \u001b[0maxis\u001b[0m\u001b[1;33m,\u001b[0m \u001b[0mmask\u001b[0m\u001b[1;33m,\u001b[0m \u001b[0mskipna\u001b[0m\u001b[1;33m)\u001b[0m\u001b[1;33m\u001b[0m\u001b[1;33m\u001b[0m\u001b[0m\n\u001b[0;32m    883\u001b[0m     \u001b[1;32mreturn\u001b[0m \u001b[0mresult\u001b[0m\u001b[1;33m\u001b[0m\u001b[1;33m\u001b[0m\u001b[0m\n",
      "\u001b[1;31mValueError\u001b[0m: attempt to get argmax of an empty sequence"
     ]
    }
   ],
   "source": [
    "for a1 in [0.25,0.5,0.75,1]:\n",
    "    a1 = round(a1,2)\n",
    "    dft = df[df['alpha_gap']==a1]\n",
    "    for a in [0.25,0.5,0.75,1]:\n",
    "        a = round(a,2)\n",
    "        dft2 = dft[dft['alpha_mag']==a]\n",
    "        print(dft2.loc[dft2['General Efficiency'].idxmax()],'\\n\\n')"
   ]
  },
  {
   "cell_type": "code",
   "execution_count": 119,
   "metadata": {
    "scrolled": true
   },
   "outputs": [
    {
     "data": {
      "text/plain": [
       "{0.25: 0.9998124, 0.5: 0.9994978, 0.75: 0.9999174}"
      ]
     },
     "execution_count": 119,
     "metadata": {},
     "output_type": "execute_result"
    }
   ],
   "source": [
    "dt = {}\n",
    "for a in [0.25,0.5,0.75]:\n",
    "    dt[a] = max(dft[dft['alpha_mag']==a]['Estrutural Efficiency Efficiency'])\n",
    "dt"
   ]
  },
  {
   "cell_type": "code",
   "execution_count": 31,
   "metadata": {},
   "outputs": [
    {
     "data": {
      "text/plain": [
       "1.9469999999999998"
      ]
     },
     "execution_count": 31,
     "metadata": {},
     "output_type": "execute_result"
    }
   ],
   "source": [
    "B[25]"
   ]
  },
  {
   "cell_type": "code",
   "execution_count": 32,
   "metadata": {},
   "outputs": [],
   "source": [
    "import pandas as pd\n",
    "import numpy as np\n",
    "BH = pd.read_csv('BH_S235JR.csv',delimiter=';')\n",
    "H = np.asarray(BH['H[A/m]'])[0:25]\n",
    "B = np.asarray(BH['B [T]'])[0:25]"
   ]
  },
  {
   "cell_type": "code",
   "execution_count": 33,
   "metadata": {},
   "outputs": [
    {
     "data": {
      "image/png": "[encoded data removed]",
      "text/plain": [
       "<Figure size 576x576 with 1 Axes>"
      ]
     },
     "metadata": {
      "needs_background": "light"
     },
     "output_type": "display_data"
    }
   ],
   "source": [
    "from matplotlib import pyplot as plt\n",
    "plt.figure(figsize=(8, 8))\n",
    "plt.plot(H/1000,B)\n",
    "plt.xlabel('H [kA/m]',fontsize=20)\n",
    "plt.ylabel('B [T]',fontsize=20)\n",
    "plt.xticks(fontsize=14)\n",
    "plt.yticks(fontsize=14)\n",
    "\n",
    "plt.grid()\n",
    "plt.show()"
   ]
  },
  {
   "cell_type": "code",
   "execution_count": 5,
   "metadata": {},
   "outputs": [],
   "source": [
    "ef = np.loadtxt('perfil_campo.txt',skiprows=9)"
   ]
  },
  {
   "cell_type": "code",
   "execution_count": 9,
   "metadata": {},
   "outputs": [],
   "source": [
    "ef = ef.\n",
    "ef"
   ]
  },
  {
   "cell_type": "code",
   "execution_count": 12,
   "metadata": {},
   "outputs": [],
   "source": [
    "x = ef[0]\n",
    "y = ef[1]\n",
    "B = ef[2]\n",
    "theta = ef[3]\n",
    "theta = np.rad2deg(theta)"
   ]
  },
  {
   "cell_type": "code",
   "execution_count": 13,
   "metadata": {},
   "outputs": [
    {
     "name": "stderr",
     "output_type": "stream",
     "text": [
      "No handles with labels found to put in legend.\n"
     ]
    },
    {
     "data": {
      "image/png": "[encoded data removed]",
      "text/plain": [
       "<Figure size 1008x576 with 1 Axes>"
      ]
     },
     "metadata": {
      "needs_background": "light"
     },
     "output_type": "display_data"
    }
   ],
   "source": [
    "import matplotlib\n",
    "plt.plot(theta,B,linewidth = 8)\n",
    "plt.grid()\n",
    "plt.legend()\n",
    "fig = matplotlib.pyplot.gcf()\n",
    "fig.set_size_inches(14, 8)\n",
    "plt.xlabel('theta [º]', fontsize = 25)\n",
    "plt.xlabel('B [T]', fontsize = 25)\n",
    "plt.rcParams['legend.fontsize'] = 18\n",
    "plt.rcParams['xtick.labelsize'] = 20\n",
    "plt.rcParams['ytick.labelsize'] = 20\n",
    "plt.show()"
   ]
  },
  {
   "cell_type": "code",
   "execution_count": null,
   "metadata": {},
   "outputs": [],
   "source": []
  }
 ],
 "metadata": {
  "kernelspec": {
   "display_name": "Python 3",
   "language": "python",
   "name": "python3"
  },
  "language_info": {
   "codemirror_mode": {
    "name": "ipython",
    "version": 3
   },
   "file_extension": ".py",
   "mimetype": "text/x-python",
   "name": "python",
   "nbconvert_exporter": "python",
   "pygments_lexer": "ipython3",
   "version": "3.7.3"
  }
 },
 "nbformat": 4,
 "nbformat_minor": 4
}
